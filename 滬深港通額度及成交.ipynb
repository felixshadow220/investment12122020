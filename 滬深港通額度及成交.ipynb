{
 "cells": [
  {
   "cell_type": "code",
   "execution_count": 1,
   "metadata": {},
   "outputs": [],
   "source": [
    "import requests\n",
    "import pandas as pd\n",
    "from bs4 import BeautifulSoup"
   ]
  },
  {
   "cell_type": "markdown",
   "metadata": {},
   "source": [
    "## Scrape Table from the Website"
   ]
  },
  {
   "cell_type": "code",
   "execution_count": 2,
   "metadata": {},
   "outputs": [],
   "source": [
    "# pandas.read_html(): The Shortcut\n",
    "dfs = pd.read_html(\"http://www.aastocks.com/en/cnhk/market/quota-balance/hk-connect\")"
   ]
  },
  {
   "cell_type": "code",
   "execution_count": 3,
   "metadata": {},
   "outputs": [],
   "source": [
    "# Manual find the data that we need\n",
    "cap_data = dfs[12:][1]"
   ]
  },
  {
   "cell_type": "code",
   "execution_count": 4,
   "metadata": {},
   "outputs": [],
   "source": [
    "# drop one level (Southbound Trade) from the columns\n",
    "cap_data = cap_data.droplevel(0, axis=1) \n",
    "\n",
    "# drop another level from the columns\n",
    "cap_data = cap_data.droplevel(1, axis=1) "
   ]
  },
  {
   "cell_type": "markdown",
   "metadata": {},
   "source": [
    "# Data Cleaning"
   ]
  },
  {
   "cell_type": "markdown",
   "metadata": {},
   "source": [
    "## Daily Quota Balance(% of Quota)"
   ]
  },
  {
   "cell_type": "code",
   "execution_count": 5,
   "metadata": {},
   "outputs": [],
   "source": [
    "# Extract the Parentheses into a separate column\n",
    "Percent_of_Quota = []\n",
    "for i in cap_data[\"Daily Quota Balance(% of Quota)\"]:\n",
    "    if i == \"Closed\":\n",
    "        Percent_of_Quota.append(0)\n",
    "    else:\n",
    "        Percent_of_Quota.append(i.split(\"(\")[1])\n",
    "        \n",
    "# clean up the Percent_of_Quota to make it clean list\n",
    "Percent_of_Quota = [float(j[0:-2]) if j != 0 else 0 for j in Percent_of_Quota]\n",
    "\n",
    "# add the list into the dataframe\n",
    "# insert the column in a specific column\n",
    "\n",
    "cap_data.insert(2, \"Percentage of Quota\", Percent_of_Quota)"
   ]
  },
  {
   "cell_type": "code",
   "execution_count": 6,
   "metadata": {},
   "outputs": [],
   "source": [
    "# extract the daily quota balance from the column\n",
    "Daily_Quota_Balance = []\n",
    "for k in cap_data[\"Daily Quota Balance(% of Quota)\"]:\n",
    "    if k == \"Closed\":\n",
    "        Daily_Quota_Balance.append(0)\n",
    "    else:\n",
    "        Daily_Quota_Balance.append(float(k.split(\"(\")[0][:-1]))\n",
    "        \n",
    "# replace the column with the newly extracted list\n",
    "cap_data[\"Daily Quota Balance(% of Quota)\"] = Daily_Quota_Balance\n",
    "\n",
    "# rename the column name\n",
    "cap_data.rename(columns={\"Daily Quota Balance(% of Quota)\": \"Daily Quota Balance(in Billion)\",}, inplace=True)"
   ]
  },
  {
   "cell_type": "markdown",
   "metadata": {},
   "source": [
    "## Money Flow"
   ]
  },
  {
   "cell_type": "code",
   "execution_count": 7,
   "metadata": {},
   "outputs": [],
   "source": [
    "# create a new list to store clean data for money flow\n",
    "money_flow = []\n",
    "for l in cap_data[\"Money Flow\"]:\n",
    "    if l == \"-\":\n",
    "        money_flow.append(0)\n",
    "        \n",
    "    # change the in to positive number and out to negative number\n",
    "    # divide number in million by 1,000 to make the number in same scale\n",
    "    \n",
    "    elif l.split(\" \")[0] == \"In\": \n",
    "        \n",
    "        if \"M\" in l.split(\" \")[1]:\n",
    "            money_flow.append(float(l.split(\" \")[1][:-1])/1000)\n",
    "        else:\n",
    "            money_flow.append(float(l.split(\" \")[1][:-1]))\n",
    "            \n",
    "    else:\n",
    "        if \"M\" in l.split(\" \")[1]:\n",
    "            money_flow.append((float(l.split(\" \")[1][:-1])/1000)*-1)\n",
    "        else:\n",
    "            money_flow.append(float(l.split(\" \")[1][:-1])*-1)\n",
    "            \n",
    "# replace the column with the newly extracted list\n",
    "cap_data[\"Money Flow\"] = money_flow\n",
    "\n",
    "# rename the column name\n",
    "cap_data.rename(columns={\"Money Flow\": \"Money Flow(in Billion)\",}, inplace=True)"
   ]
  },
  {
   "cell_type": "markdown",
   "metadata": {},
   "source": [
    "## Buy Trade Value & Sell Trade Value"
   ]
  },
  {
   "cell_type": "code",
   "execution_count": 8,
   "metadata": {},
   "outputs": [],
   "source": [
    "# create a new list to store clean data for money flow\n",
    "buy_trade = []\n",
    "for m in cap_data[\"Buy Trade Value(HKD)\"]:\n",
    "    if m == \"-\":\n",
    "        buy_trade.append(0)\n",
    "    else:\n",
    "        buy_trade.append(float(m[:-1]))\n",
    "        \n",
    "# replace the column with the newly extracted list\n",
    "cap_data[\"Buy Trade Value(HKD)\"] = buy_trade\n",
    "\n",
    "# create a new list to store clean data for money flow\n",
    "sell_trade = []\n",
    "for n in cap_data[\"Sell Trade Value(HKD)\"]:\n",
    "    if n == \"-\":\n",
    "        sell_trade.append(0)\n",
    "    else:\n",
    "        sell_trade.append(float(n[:-1]))\n",
    "        \n",
    "# replace the column with the newly extracted list\n",
    "cap_data[\"Sell Trade Value(HKD)\"] = sell_trade"
   ]
  },
  {
   "cell_type": "markdown",
   "metadata": {},
   "source": [
    "## Total Trade Value"
   ]
  },
  {
   "cell_type": "code",
   "execution_count": 10,
   "metadata": {},
   "outputs": [],
   "source": [
    "# Extract the Parentheses into a separate column\n",
    "mkt_turnover = []\n",
    "for o in cap_data[\"Total Trade Value1 (% of Market Turnover)\"]:\n",
    "    if o == \"-\":\n",
    "        mkt_turnover.append(0)\n",
    "    else:\n",
    "        mkt_turnover.append(o.split(\"(\")[1])\n",
    "        \n",
    "# clean up the Percent_of_Quota to make it clean list\n",
    "mkt_turnover = [float(o[0:-2]) if o != 0 else 0 for o in mkt_turnover]\n",
    "\n",
    "# add the list into the dataframe\n",
    "cap_data[\"Percentage of Market Turnover\"] = mkt_turnover"
   ]
  },
  {
   "cell_type": "code",
   "execution_count": 12,
   "metadata": {},
   "outputs": [],
   "source": [
    "# extract the total trade value from the column\n",
    "Total_Trade_Value = []\n",
    "for p in cap_data[\"Total Trade Value1 (% of Market Turnover)\"]:\n",
    "    if p == \"-\":\n",
    "        Total_Trade_Value.append(0)\n",
    "    else:\n",
    "        Total_Trade_Value.append(float(p.split(\"(\")[0][:-1]))\n",
    "        \n",
    "# replace the column with the newly extracted list\n",
    "cap_data[\"Total Trade Value1 (% of Market Turnover)\"] = Total_Trade_Value\n",
    "\n",
    "# rename the column name\n",
    "cap_data.rename(columns={\"Total Trade Value1 (% of Market Turnover)\": \"Total Trade Value(in Billion)\",}, inplace=True)"
   ]
  },
  {
   "cell_type": "markdown",
   "metadata": {},
   "source": [
    "# Export the table into Excel Folder"
   ]
  },
  {
   "cell_type": "code",
   "execution_count": 33,
   "metadata": {},
   "outputs": [],
   "source": [
    "# set the excel file name\n",
    "current_date = \"\".join(cap_data[\"Date\"][0].split(\"/\"))\n",
    "\n",
    "# export the table as an excel file\n",
    "cap_data.to_excel(current_date+\".xlsx\")"
   ]
  }
 ],
 "metadata": {
  "kernelspec": {
   "display_name": "Python 3",
   "language": "python",
   "name": "python3"
  },
  "language_info": {
   "codemirror_mode": {
    "name": "ipython",
    "version": 3
   },
   "file_extension": ".py",
   "mimetype": "text/x-python",
   "name": "python",
   "nbconvert_exporter": "python",
   "pygments_lexer": "ipython3",
   "version": "3.8.5"
  }
 },
 "nbformat": 4,
 "nbformat_minor": 4
}
